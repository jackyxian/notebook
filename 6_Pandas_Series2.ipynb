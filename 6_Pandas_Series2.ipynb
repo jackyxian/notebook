{
 "cells": [
  {
   "cell_type": "code",
   "execution_count": 1,
   "id": "23f60de1-9151-4e16-9dfd-2f62fff1fc5d",
   "metadata": {},
   "outputs": [],
   "source": [
    "import pandas as pd"
   ]
  },
  {
   "cell_type": "code",
   "execution_count": 41,
   "id": "be24fb32-5012-4018-a72a-a83c1e1994d9",
   "metadata": {},
   "outputs": [
    {
     "name": "stdout",
     "output_type": "stream",
     "text": [
      "小明    92\n",
      "小红    67\n",
      "小杰    70\n",
      "小丽    88\n",
      "小华    76\n",
      "dtype: int64\n",
      "小明    95\n",
      "小杰    85\n",
      "小宇    60\n",
      "小娟    79\n",
      "小彤    76\n",
      "dtype: int64\n"
     ]
    }
   ],
   "source": [
    "s1 = pd.Series([92, 67, 70, 88, 76], index=[\"小明\", \"小红\", \"小杰\", \"小丽\", \"小华\"])\n",
    "s2 = pd.Series([95, 85, 60, 79, 76], index=[\"小明\", \"小杰\", \"小宇\", \"小娟\", \"小彤\"])\n",
    "print(s1)\n",
    "print(s2)"
   ]
  },
  {
   "cell_type": "code",
   "execution_count": 43,
   "id": "7a427b1a-632b-4f62-b7dd-787ce42edf76",
   "metadata": {},
   "outputs": [
    {
     "data": {
      "text/plain": [
       "小丽     88.0\n",
       "小华     76.0\n",
       "小娟     79.0\n",
       "小宇     60.0\n",
       "小彤     76.0\n",
       "小明    187.0\n",
       "小杰    155.0\n",
       "小红     67.0\n",
       "dtype: float64"
      ]
     },
     "execution_count": 43,
     "metadata": {},
     "output_type": "execute_result"
    }
   ],
   "source": [
    "s1.add(s2, fill_value=0)"
   ]
  },
  {
   "cell_type": "code",
   "execution_count": 45,
   "id": "f63d4b1f-488c-41dd-b0a9-c7e37027dd8c",
   "metadata": {},
   "outputs": [
    {
     "data": {
      "text/plain": [
       "count     5.000000\n",
       "mean     78.600000\n",
       "std      10.990905\n",
       "min      67.000000\n",
       "25%      70.000000\n",
       "50%      76.000000\n",
       "75%      88.000000\n",
       "max      92.000000\n",
       "dtype: float64"
      ]
     },
     "execution_count": 45,
     "metadata": {},
     "output_type": "execute_result"
    }
   ],
   "source": [
    "s1.describe()"
   ]
  },
  {
   "cell_type": "code",
   "execution_count": 47,
   "id": "afdfa2f7-5aa9-4a38-9a90-418bbb52afbc",
   "metadata": {},
   "outputs": [
    {
     "data": {
      "text/plain": [
       "小明    97\n",
       "小红    72\n",
       "小杰    75\n",
       "小丽    93\n",
       "小华    81\n",
       "dtype: int64"
      ]
     },
     "execution_count": 47,
     "metadata": {},
     "output_type": "execute_result"
    }
   ],
   "source": [
    "s1 + 5"
   ]
  },
  {
   "cell_type": "code",
   "execution_count": 49,
   "id": "1ce2f187-5450-4290-8358-14cffba5fa9c",
   "metadata": {},
   "outputs": [
    {
     "data": {
      "text/plain": [
       "小明    A\n",
       "小红    D\n",
       "小杰    C\n",
       "小丽    B\n",
       "小华    C\n",
       "dtype: object"
      ]
     },
     "execution_count": 49,
     "metadata": {},
     "output_type": "execute_result"
    }
   ],
   "source": [
    "def get_grade_from_score(score):\n",
    "    if score >= 90:\n",
    "        return \"A\"\n",
    "    elif score >= 80:\n",
    "        return \"B\"\n",
    "    elif score >= 70:\n",
    "        return \"C\"\n",
    "    elif score >= 60:\n",
    "        return \"D\"\n",
    "    else:\n",
    "        return \"不及格\"\n",
    "\n",
    "s3 = s1.apply(get_grade_from_score)\n",
    "s3"
   ]
  },
  {
   "cell_type": "code",
   "execution_count": null,
   "id": "59334db8-f9d0-44b0-93a7-7b248a37657e",
   "metadata": {},
   "outputs": [],
   "source": []
  }
 ],
 "metadata": {
  "kernelspec": {
   "display_name": "Python 3 (ipykernel)",
   "language": "python",
   "name": "python3"
  },
  "language_info": {
   "codemirror_mode": {
    "name": "ipython",
    "version": 3
   },
   "file_extension": ".py",
   "mimetype": "text/x-python",
   "name": "python",
   "nbconvert_exporter": "python",
   "pygments_lexer": "ipython3",
   "version": "3.12.7"
  }
 },
 "nbformat": 4,
 "nbformat_minor": 5
}
