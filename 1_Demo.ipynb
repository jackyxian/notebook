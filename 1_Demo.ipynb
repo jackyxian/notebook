{
 "cells": [
  {
   "cell_type": "code",
   "execution_count": 4,
   "id": "764fd509-f706-4fea-a56e-ff755a9b8c8d",
   "metadata": {},
   "outputs": [
    {
     "name": "stdout",
     "output_type": "stream",
     "text": [
      "hell world\n"
     ]
    }
   ],
   "source": [
    "print(\"hell world\")"
   ]
  },
  {
   "cell_type": "code",
   "execution_count": 6,
   "id": "cc163b42-9c0f-4f1b-b003-9fd429011c44",
   "metadata": {},
   "outputs": [
    {
     "name": "stdout",
     "output_type": "stream",
     "text": [
      "hell world\n"
     ]
    }
   ],
   "source": [
    "print(\"hell world\")"
   ]
  },
  {
   "cell_type": "code",
   "execution_count": null,
   "id": "ab6951de-f843-4625-957a-69c11de2a74b",
   "metadata": {},
   "outputs": [],
   "source": [
    "5 + 3"
   ]
  },
  {
   "cell_type": "code",
   "execution_count": 17,
   "id": "73b38b66-8757-4c8f-824e-6105585154b7",
   "metadata": {},
   "outputs": [],
   "source": [
    "a = 3"
   ]
  },
  {
   "cell_type": "code",
   "execution_count": 19,
   "id": "22878614-ac11-455c-8496-b8ec8f8fa2d9",
   "metadata": {},
   "outputs": [
    {
     "data": {
      "text/plain": [
       "3"
      ]
     },
     "execution_count": 19,
     "metadata": {},
     "output_type": "execute_result"
    }
   ],
   "source": [
    "a"
   ]
  },
  {
   "cell_type": "code",
   "execution_count": null,
   "id": "a0b549df-bed2-441d-a418-d4d52dc0638a",
   "metadata": {},
   "outputs": [],
   "source": []
  }
 ],
 "metadata": {
  "kernelspec": {
   "display_name": "Python 3 (ipykernel)",
   "language": "python",
   "name": "python3"
  },
  "language_info": {
   "codemirror_mode": {
    "name": "ipython",
    "version": 3
   },
   "file_extension": ".py",
   "mimetype": "text/x-python",
   "name": "python",
   "nbconvert_exporter": "python",
   "pygments_lexer": "ipython3",
   "version": "3.12.7"
  }
 },
 "nbformat": 4,
 "nbformat_minor": 5
}
