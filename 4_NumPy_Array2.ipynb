{
 "cells": [
  {
   "cell_type": "code",
   "execution_count": 17,
   "id": "61e4a192-bdb8-435b-81db-91cae7a88be5",
   "metadata": {},
   "outputs": [],
   "source": [
    "import numpy as np"
   ]
  },
  {
   "cell_type": "code",
   "execution_count": 52,
   "id": "10f31d79-822a-46da-8dc4-39abc30ccb8e",
   "metadata": {},
   "outputs": [
    {
     "name": "stdout",
     "output_type": "stream",
     "text": [
      "[1 2 3 4 9]\n",
      "[1. 1. 1. 1. 1.]\n",
      "[0. 0. 0.]\n"
     ]
    }
   ],
   "source": [
    "arr1 = np.array([1, 2, 3, 4, 9])\n",
    "print(arr1)\n",
    "arr2 = np.ones(5)\n",
    "print(arr2)\n",
    "arr3 = np.zeros(3)\n",
    "print(arr3)"
   ]
  },
  {
   "cell_type": "code",
   "execution_count": 54,
   "id": "0eaead30-2065-4301-88ad-738c23b93436",
   "metadata": {},
   "outputs": [
    {
     "data": {
      "text/plain": [
       "array([1., 2., 3., 4., 9., 1., 1., 1., 1., 1., 0., 0., 0.])"
      ]
     },
     "execution_count": 54,
     "metadata": {},
     "output_type": "execute_result"
    }
   ],
   "source": [
    "arr4 = np.concatenate([arr1, arr2, arr3])\n",
    "arr4"
   ]
  },
  {
   "cell_type": "code",
   "execution_count": 56,
   "id": "fcb5fd73-93b4-486c-9c9c-fd4c6a7ceea3",
   "metadata": {},
   "outputs": [
    {
     "data": {
      "text/plain": [
       "array([0., 0., 0., 1., 1., 1., 1., 1., 1., 2., 3., 4., 9.])"
      ]
     },
     "execution_count": 56,
     "metadata": {},
     "output_type": "execute_result"
    }
   ],
   "source": [
    "arr4.sort()\n",
    "arr4"
   ]
  },
  {
   "cell_type": "code",
   "execution_count": 58,
   "id": "1dc2e8b9-111d-4b10-a6ea-86aba482bfa4",
   "metadata": {},
   "outputs": [
    {
     "name": "stdout",
     "output_type": "stream",
     "text": [
      "3\n",
      "3\n"
     ]
    }
   ],
   "source": [
    "print(arr1[2])\n",
    "print(arr1[-3])"
   ]
  },
  {
   "cell_type": "code",
   "execution_count": 60,
   "id": "b26b0035-793a-4e41-ae70-bf105e6cc76b",
   "metadata": {},
   "outputs": [
    {
     "data": {
      "text/plain": [
       "array([2, 3, 4])"
      ]
     },
     "execution_count": 60,
     "metadata": {},
     "output_type": "execute_result"
    }
   ],
   "source": [
    "arr1[1:4]"
   ]
  },
  {
   "cell_type": "code",
   "execution_count": 62,
   "id": "b8a1b955-a889-4ac6-920f-65ea005d11c8",
   "metadata": {},
   "outputs": [
    {
     "data": {
      "text/plain": [
       "array([ 2.,  3.,  4.,  5., 10.])"
      ]
     },
     "execution_count": 62,
     "metadata": {},
     "output_type": "execute_result"
    }
   ],
   "source": [
    "arr1 + arr2"
   ]
  },
  {
   "cell_type": "code",
   "execution_count": 64,
   "id": "92841010-4b83-4df2-a683-ea59d2da4541",
   "metadata": {},
   "outputs": [
    {
     "data": {
      "text/plain": [
       "array([ -5, -10, -15, -20, -45])"
      ]
     },
     "execution_count": 64,
     "metadata": {},
     "output_type": "execute_result"
    }
   ],
   "source": [
    "arr1 * -5"
   ]
  },
  {
   "cell_type": "code",
   "execution_count": 70,
   "id": "46ad9ce4-a56a-4c15-a949-59b3346cb759",
   "metadata": {},
   "outputs": [
    {
     "name": "stdout",
     "output_type": "stream",
     "text": [
      "9\n",
      "1\n",
      "19\n",
      "3.8\n"
     ]
    }
   ],
   "source": [
    "print(arr1.max())\n",
    "print(arr1.min())\n",
    "print(arr1.sum())\n",
    "print(arr1.mean())"
   ]
  },
  {
   "cell_type": "code",
   "execution_count": 72,
   "id": "3b566a74-e021-4b84-8730-2ddc05175176",
   "metadata": {},
   "outputs": [
    {
     "data": {
      "text/plain": [
       "array([4, 9])"
      ]
     },
     "execution_count": 72,
     "metadata": {},
     "output_type": "execute_result"
    }
   ],
   "source": [
    "arr1[(arr1<1) | (arr1>3)]"
   ]
  },
  {
   "cell_type": "code",
   "execution_count": null,
   "id": "044cce1f-b3e4-481e-aca9-40f146b866b2",
   "metadata": {},
   "outputs": [],
   "source": []
  }
 ],
 "metadata": {
  "kernelspec": {
   "display_name": "Python 3 (ipykernel)",
   "language": "python",
   "name": "python3"
  },
  "language_info": {
   "codemirror_mode": {
    "name": "ipython",
    "version": 3
   },
   "file_extension": ".py",
   "mimetype": "text/x-python",
   "name": "python",
   "nbconvert_exporter": "python",
   "pygments_lexer": "ipython3",
   "version": "3.12.7"
  }
 },
 "nbformat": 4,
 "nbformat_minor": 5
}
