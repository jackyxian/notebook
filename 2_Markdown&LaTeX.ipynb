{
 "cells": [
  {
   "cell_type": "markdown",
   "id": "b8050807-debc-479e-a30a-86b19c092578",
   "metadata": {},
   "source": [
    "# 我是最大的标题\n",
    "## 我是第二大的标题\n",
    "### 我是第三大的标题\n",
    "#### 我是第四大的标题\n",
    "##### 我是第五大的标题\n",
    "###### 我是最小的标题"
   ]
  },
  {
   "cell_type": "markdown",
   "id": "4c689745-dfac-4ba2-b99c-a109a4c2bbea",
   "metadata": {},
   "source": [
    "我是**粗体字**  \n",
    "我是*斜体*   \n",
    "我被~~刪除~~了   "
   ]
  },
  {
   "cell_type": "markdown",
   "id": "bc26044a-a502-47c6-8bb8-da640d0dba39",
   "metadata": {},
   "source": [
    "- 我是無序列表第一項\n",
    "- 我是無序列表第二項\n",
    "- 我是無序列表第三項"
   ]
  },
  {
   "cell_type": "markdown",
   "id": "0df50247-4eae-431d-a5b2-c0c1ed1ec36e",
   "metadata": {},
   "source": [
    "1. 我是有序列表第一項\n",
    "2. 我是有序列表第二項\n",
    "3. 我是有序列表第三項"
   ]
  },
  {
   "cell_type": "markdown",
   "id": "81474bd7-a752-4e09-b555-45a45c05e921",
   "metadata": {},
   "source": [
    "[我的主頁地址](https://www.bug250.com)  \n",
    "![珠海城市景觀](https://dimg04.c-ctrip.com/images/1me5212000gpsojz09AB3_W_800_0_Q90.jpg?proc=source/tripcommunity) "
   ]
  },
  {
   "cell_type": "markdown",
   "id": "9e972664-4fec-4dd5-997c-f3c3d86c40fe",
   "metadata": {},
   "source": [
    "蒹葭苍苍  \n",
    "白露为霜"
   ]
  },
  {
   "cell_type": "markdown",
   "id": "48e0b5c5-5c49-4242-81f1-5b6786215c03",
   "metadata": {},
   "source": [
    "```python\n",
    "import math\n",
    "print(\"Hello World！\")\n",
    "print(math.pi)\n",
    "```"
   ]
  },
  {
   "cell_type": "markdown",
   "id": "e230d875-77c7-47e9-ae15-0f75630ca096",
   "metadata": {},
   "source": [
    "$$x + y$$ \n",
    "$$x - y$$\n",
    "$$x \\times y$$\n",
    "$$x \\div y$$"
   ]
  },
  {
   "cell_type": "markdown",
   "id": "4df3f4c9-b4b0-4d39-9b6d-584bf33cc2e9",
   "metadata": {},
   "source": [
    "$$x^3$$\n",
    "$$H_2O$$\n",
    "$$S_{input}$$"
   ]
  },
  {
   "cell_type": "markdown",
   "id": "0ecf6b8b-83af-4d66-a2bb-0957298945fd",
   "metadata": {},
   "source": [
    "$$\\sum(x^2+y^2)$$\n",
    "$$\\sqrt[3]x$$"
   ]
  },
  {
   "cell_type": "markdown",
   "id": "b5a20073-0219-408d-9976-100462400b1b",
   "metadata": {},
   "source": [
    "$$\\sqrt[3]{a^2m^2}$$"
   ]
  },
  {
   "cell_type": "markdown",
   "id": "a394bb87-9083-4c45-84fc-98112a184696",
   "metadata": {},
   "source": [
    "$$\\frac{x+y}{x-y}$$"
   ]
  },
  {
   "cell_type": "markdown",
   "id": "266f7fe7-2eb2-45fe-9ee9-44bbc0e794ef",
   "metadata": {},
   "source": [
    "$$\\sigma^2 = \\frac{\\sum(X-\\mu)^2}{N} $$"
   ]
  },
  {
   "cell_type": "code",
   "execution_count": null,
   "id": "2cea25a4-73c6-4cc7-80f0-3946f937c530",
   "metadata": {},
   "outputs": [],
   "source": []
  }
 ],
 "metadata": {
  "kernelspec": {
   "display_name": "Python [conda env:base] *",
   "language": "python",
   "name": "conda-base-py"
  },
  "language_info": {
   "codemirror_mode": {
    "name": "ipython",
    "version": 3
   },
   "file_extension": ".py",
   "mimetype": "text/x-python",
   "name": "python",
   "nbconvert_exporter": "python",
   "pygments_lexer": "ipython3",
   "version": "3.12.7"
  }
 },
 "nbformat": 4,
 "nbformat_minor": 5
}
